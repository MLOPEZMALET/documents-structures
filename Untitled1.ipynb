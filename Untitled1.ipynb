{
 "cells": [
  {
   "cell_type": "code",
   "execution_count": 1,
   "metadata": {},
   "outputs": [],
   "source": [
    "import pandas as pd\n",
    "from dicttoxml import dicttoxml\n",
    "from collections import defaultdict\n",
    "import xml.etree.ElementTree as xml\n",
    "\n",
    "df = pd.read_csv(\"/home/mlopezmalet/MLOPEZMALET/m2/documents-structures/tournagesdefilmsparis2011.csv\", sep=\";\")"
   ]
  },
  {
   "cell_type": "code",
   "execution_count": 2,
   "metadata": {},
   "outputs": [
    {
     "name": "stdout",
     "output_type": "stream",
     "text": [
      "<class 'pandas.core.frame.DataFrame'>\n",
      "RangeIndex: 2805 entries, 0 to 2804\n",
      "Data columns (total 9 columns):\n",
      "Titre                  2805 non-null object\n",
      "Réalisateur            2805 non-null object\n",
      "Adresse                2805 non-null object\n",
      "Organisme Demandeur    2805 non-null object\n",
      "Type de tournage       2805 non-null object\n",
      "Arrondissement         2805 non-null int64\n",
      "Date debut             2805 non-null object\n",
      "Date fin               2805 non-null object\n",
      "xy                     2660 non-null object\n",
      "dtypes: int64(1), object(8)\n",
      "memory usage: 197.3+ KB\n"
     ]
    }
   ],
   "source": [
    "df.info()"
   ]
  },
  {
   "cell_type": "code",
   "execution_count": 3,
   "metadata": {},
   "outputs": [],
   "source": [
    "df[\"Type de tournage\"] = df[\"Type de tournage\"].str.replace(\"LONG METRAGE\", \"LONG_METRAGE\").str.replace(\"SERIE TELEVISEE\", \"SERIE_TELEVISEE\")"
   ]
  },
  {
   "cell_type": "code",
   "execution_count": 4,
   "metadata": {},
   "outputs": [
    {
     "data": {
      "text/plain": [
       "LONG_METRAGE       1867\n",
       "SERIE_TELEVISEE     833\n",
       "TELEFILM            105\n",
       "Name: Type de tournage, dtype: int64"
      ]
     },
     "execution_count": 4,
     "metadata": {},
     "output_type": "execute_result"
    }
   ],
   "source": [
    "df[\"Type de tournage\"].value_counts()"
   ]
  },
  {
   "cell_type": "code",
   "execution_count": null,
   "metadata": {},
   "outputs": [],
   "source": [
    "df = df.fillna(\"0\")\n",
    "data = []\n",
    "\n",
    "for i in range(1,2805):\n",
    "    data.append(list(df.iloc[i].to_dict().values()))\n",
    "    "
   ]
  },
  {
   "cell_type": "markdown",
   "metadata": {},
   "source": [
    "def convert_row(row):\n",
    "    return \"\"\"<Arrondissementmovietitle=\"%s\">\n",
    "    <type>%s</type>\n",
    "    <format>%s</format>\n",
    "    <year>%s</year>\n",
    "    <rating>%s</rating>\n",
    "    <stars>%s</stars>\n",
    "    <description>%s</description>\n",
    "</movie>\"\"\" % (row[0], row[1], row[2], row[3], row[4], row[5], row[6])\n",
    "\n",
    "print '\\n'.join([convert_row(row) for row in data[1:]])"
   ]
  },
  {
   "cell_type": "code",
   "execution_count": null,
   "metadata": {},
   "outputs": [],
   "source": [
    "len(data)"
   ]
  },
  {
   "cell_type": "code",
   "execution_count": null,
   "metadata": {},
   "outputs": [],
   "source": [
    "dict_arr = defaultdict(list)\n",
    "for row in data:\n",
    "    dict_arr[str(row[5])].append(row)"
   ]
  },
  {
   "cell_type": "code",
   "execution_count": null,
   "metadata": {},
   "outputs": [],
   "source": []
  },
  {
   "cell_type": "code",
   "execution_count": null,
   "metadata": {},
   "outputs": [],
   "source": [
    "dict_arr[\"75003\"][2][4]"
   ]
  },
  {
   "cell_type": "code",
   "execution_count": null,
   "metadata": {},
   "outputs": [],
   "source": [
    "for i in dict_arr:\n",
    "    for k in dict_arr[i]:\n",
    "        print(k[4])"
   ]
  },
  {
   "cell_type": "markdown",
   "metadata": {},
   "source": [
    "<Titre></Titre>\n",
    "\t\t\t<Realisateur></Realisateur>\n",
    "\t\t\t<Organisme_demandeur></Organisme_demandeur>\n",
    "\t\t\t<Adresses>\n",
    "\t\t\t\t<Adresse coordonnées=\",\" date_debut=\"\" date_fin=\"\"></Adresse>\n",
    "\t\t\t\t<Adresse coordonnées=\",\" date_debut=\"\" date_fin=\"\"></Adresse>"
   ]
  },
  {
   "cell_type": "code",
   "execution_count": null,
   "metadata": {},
   "outputs": [],
   "source": [
    "root = xml.Element(\"Arrondissements\")\n",
    "for i in dict_arr:\n",
    "    for k in dict_arr[i]:\n",
    "        arr = xml.SubElement(root,\"Arrondissement\")\n",
    "        arr.text = i\n",
    "        tournage = xml.SubElement(arr, \"Tournage\")\n",
    "        tournage.attrib = {\"type\": k[4]}\n",
    "        titre = xml.SubElement(tournage, \"Titre\")\n",
    "        titre.text = k[0]\n",
    "        realisateur = xml.SubElement(tournage, \"Realisateur\")\n",
    "        realisateur.text = k[1]\n",
    "        orga = xml.SubElement(tournage, \"Organisme_demandeur\")\n",
    "        orga.text = k[3]\n",
    "        adresse = xml.SubElement(tournage, \"Adresse\")\n",
    "        adresse.text = k[2]\n",
    "        adresse.attrib = {\"date_debut\": k[6], \"date_fin\": k[7],\"coordonnees\": k[8]}\n",
    "print(xml.tostring(root))                                          "
   ]
  },
  {
   "cell_type": "code",
   "execution_count": null,
   "metadata": {},
   "outputs": [],
   "source": [
    "from xml.dom import minidom\n",
    "\n",
    "def prettify(elem):\n",
    "    \"\"\"Return a pretty-printed XML string for the Element.\n",
    "    \"\"\"\n",
    "    rough_string = xml.tostring(elem, 'utf-8')\n",
    "    reparsed = minidom.parseString(rough_string)\n",
    "    return reparsed.toprettyxml(indent=\"  \")"
   ]
  },
  {
   "cell_type": "code",
   "execution_count": null,
   "metadata": {},
   "outputs": [],
   "source": [
    "print(prettify(root))"
   ]
  },
  {
   "cell_type": "code",
   "execution_count": null,
   "metadata": {},
   "outputs": [],
   "source": [
    "with open(\"test_devoir2.xml\", \"w+\") as f:\n",
    "    f.write(prettify(root))"
   ]
  },
  {
   "cell_type": "code",
   "execution_count": null,
   "metadata": {},
   "outputs": [],
   "source": []
  }
 ],
 "metadata": {
  "kernelspec": {
   "display_name": "Python 3",
   "language": "python",
   "name": "python3"
  },
  "language_info": {
   "codemirror_mode": {
    "name": "ipython",
    "version": 3
   },
   "file_extension": ".py",
   "mimetype": "text/x-python",
   "name": "python",
   "nbconvert_exporter": "python",
   "pygments_lexer": "ipython3",
   "version": "3.6.6"
  }
 },
 "nbformat": 4,
 "nbformat_minor": 2
}
