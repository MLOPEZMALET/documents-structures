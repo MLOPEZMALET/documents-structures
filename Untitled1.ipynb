{
 "cells": [
  {
   "cell_type": "code",
   "execution_count": 19,
   "metadata": {},
   "outputs": [],
   "source": [
    "import pandas as pd\n",
    "import xml.etree.ElementTree as ET\n",
    "from dicttoxml import dicttoxml\n",
    "\n",
    "df = pd.read_csv(\"/home/mlopezmalet/MLOPEZMALET/m2/documents-structures/tournagesdefilmsparis2011.csv\", sep=\";\")"
   ]
  },
  {
   "cell_type": "code",
   "execution_count": 35,
   "metadata": {},
   "outputs": [],
   "source": [
    "data = []\n",
    "\n",
    "for i in range(1,2805):\n",
    "    data.append(list(df.iloc[i].to_dict().values()))\n",
    "    "
   ]
  },
  {
   "cell_type": "code",
   "execution_count": 39,
   "metadata": {},
   "outputs": [
    {
     "data": {
      "text/plain": [
       "['LEO MATTEI/14 ET 15',\n",
       " 'NICOLAS HERDT',\n",
       " 'PONT\\xa0 MORLAND',\n",
       " 'LGM CINEMA',\n",
       " 'SERIE TELEVISEE',\n",
       " 75004,\n",
       " '2016-10-06',\n",
       " '2016-10-06',\n",
       " '48.84726,2.365669']"
      ]
     },
     "execution_count": 39,
     "metadata": {},
     "output_type": "execute_result"
    }
   ],
   "source": [
    "data[0]"
   ]
  },
  {
   "cell_type": "code",
   "execution_count": null,
   "metadata": {},
   "outputs": [],
   "source": [
    "def convert_row(row):\n",
    "    return \"\"\"<Arrondissementmovietitle=\"%s\">\n",
    "    <type>%s</type>\n",
    "    <format>%s</format>\n",
    "    <year>%s</year>\n",
    "    <rating>%s</rating>\n",
    "    <stars>%s</stars>\n",
    "    <description>%s</description>\n",
    "</movie>\"\"\" % (row[0], row[1], row[2], row[3], row[4], row[5], row[6])\n",
    "\n",
    "print '\\n'.join([convert_row(row) for row in data[1:]])"
   ]
  },
  {
   "cell_type": "code",
   "execution_count": null,
   "metadata": {},
   "outputs": [],
   "source": []
  }
 ],
 "metadata": {
  "kernelspec": {
   "display_name": "Python 3",
   "language": "python",
   "name": "python3"
  },
  "language_info": {
   "codemirror_mode": {
    "name": "ipython",
    "version": 3
   },
   "file_extension": ".py",
   "mimetype": "text/x-python",
   "name": "python",
   "nbconvert_exporter": "python",
   "pygments_lexer": "ipython3",
   "version": "3.6.6"
  }
 },
 "nbformat": 4,
 "nbformat_minor": 2
}
